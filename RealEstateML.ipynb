{
  "cells": [
    {
      "cell_type": "markdown",
      "metadata": {
        "id": "G2BvdjGMFegv"
      },
      "source": [
        "# Предсказание медианной стоимости квартир в калифорнийских жилых массивах\n",
        "\n",
        "**Описание данных**:\n",
        "\n",
        "- longitude — широта;\n",
        "- latitude — долгота;\n",
        "- housing_median_age — медианный возраст жителей жилого массива;\n",
        "- total_rooms — общее количество комнат в домах жилого массива;\n",
        "- total_bedrooms — общее количество спален в домах жилого массива;\n",
        "- population — количество человек, которые проживают в жилом массиве;\n",
        "- households — количество домовладений в жилом массиве;\n",
        "- median_income — медианный доход жителей жилого массива;\n",
        "- **median_house_value** — медианная стоимость дома в жилом массиве (**таргет**);\n",
        "- ocean_proximity — близость к океану.\n",
        "\n"
      ]
    },
    {
      "cell_type": "markdown",
      "metadata": {
        "id": "G1LmKjl9GN-j"
      },
      "source": [
        "## Импорты"
      ]
    },
    {
      "cell_type": "code",
      "execution_count": null,
      "metadata": {
        "id": "bKX44HcGbph2"
      },
      "outputs": [],
      "source": [
        "RANDOM_SEED = 42"
      ]
    },
    {
      "cell_type": "code",
      "execution_count": null,
      "metadata": {
        "colab": {
          "base_uri": "https://localhost:8080/"
        },
        "id": "EtKCeiSvFXx4",
        "outputId": "da79ca80-83b8-43a1-b01a-44736c9f630f"
      },
      "outputs": [
        {
          "name": "stdout",
          "output_type": "stream",
          "text": [
            "Requirement already satisfied: pyspark in /usr/local/lib/python3.10/dist-packages (3.5.1)\n",
            "Requirement already satisfied: py4j==0.10.9.7 in /usr/local/lib/python3.10/dist-packages (from pyspark) (0.10.9.7)\n"
          ]
        }
      ],
      "source": [
        "!pip install pyspark\n",
        "import pyspark\n",
        "from pyspark.sql import SparkSession\n",
        "import pandas as pd\n",
        "import numpy as np\n",
        "from pyspark.sql.types import *\n",
        "import pyspark.sql.functions as F\n",
        "from pyspark.ml import Pipeline\n",
        "from pyspark.ml.feature import StringIndexer, OneHotEncoder, VectorAssembler, StandardScaler\n",
        "from pyspark.ml.regression import LinearRegression, RandomForestRegressor\n",
        "from pyspark.mllib.evaluation import RegressionMetrics\n",
        "from pyspark.ml.evaluation import RegressionEvaluator\n",
        "from pyspark.ml.tuning import CrossValidator, ParamGridBuilder"
      ]
    },
    {
      "cell_type": "markdown",
      "metadata": {
        "id": "HUMtGWNEGyHc"
      },
      "source": [
        "## Загрузка данных"
      ]
    },
    {
      "cell_type": "code",
      "execution_count": null,
      "metadata": {
        "id": "mD8FsArOGg68"
      },
      "outputs": [],
      "source": [
        "spark = SparkSession.builder \\\n",
        "                    .master(\"local\") \\\n",
        "                    .appName(\"RealEstateML\") \\\n",
        "                    .getOrCreate()"
      ]
    },
    {
      "cell_type": "code",
      "execution_count": null,
      "metadata": {
        "id": "8_w0WCV3G8HA"
      },
      "outputs": [],
      "source": [
        "df = pd.read_csv('https://code.s3.yandex.net/datasets/housing.csv')\n",
        "df = spark.createDataFrame(df)"
      ]
    },
    {
      "cell_type": "markdown",
      "metadata": {
        "id": "28CiE1xx1E3u"
      },
      "source": [
        "## Первичное изучение данных"
      ]
    },
    {
      "cell_type": "code",
      "execution_count": null,
      "metadata": {
        "colab": {
          "base_uri": "https://localhost:8080/"
        },
        "id": "DvbwNwwy1H6Q",
        "outputId": "df9735a0-1764-4ad3-d8a0-4ca14793d46a"
      },
      "outputs": [
        {
          "name": "stdout",
          "output_type": "stream",
          "text": [
            "root\n",
            " |-- longitude: double (nullable = true)\n",
            " |-- latitude: double (nullable = true)\n",
            " |-- housing_median_age: double (nullable = true)\n",
            " |-- total_rooms: double (nullable = true)\n",
            " |-- total_bedrooms: double (nullable = true)\n",
            " |-- population: double (nullable = true)\n",
            " |-- households: double (nullable = true)\n",
            " |-- median_income: double (nullable = true)\n",
            " |-- median_house_value: double (nullable = true)\n",
            " |-- ocean_proximity: string (nullable = true)\n",
            "\n"
          ]
        }
      ],
      "source": [
        "df.printSchema()"
      ]
    },
    {
      "cell_type": "markdown",
      "metadata": {
        "id": "6Zs1P6jmylRH"
      },
      "source": [
        "## Предобработка данных"
      ]
    },
    {
      "cell_type": "markdown",
      "metadata": {
        "id": "SUd38QZfJ-2B"
      },
      "source": [
        "### Nan"
      ]
    },
    {
      "cell_type": "code",
      "execution_count": null,
      "metadata": {
        "colab": {
          "base_uri": "https://localhost:8080/"
        },
        "id": "XLGEheRQ1UUH",
        "outputId": "fecea07f-80e8-4ec4-d8fc-25c0c4ff89b1"
      },
      "outputs": [
        {
          "name": "stdout",
          "output_type": "stream",
          "text": [
            "longitude 0\n",
            "latitude 0\n",
            "housing_median_age 0\n",
            "total_rooms 0\n",
            "total_bedrooms 207\n",
            "population 0\n",
            "households 0\n",
            "median_income 0\n",
            "median_house_value 0\n",
            "ocean_proximity 0\n"
          ]
        }
      ],
      "source": [
        "columns = df.columns\n",
        "\n",
        "for column in columns:\n",
        "    check_col = F.col(column).cast('float')\n",
        "    print(column, df.filter(check_col.isin([None, np.nan, 'NULL'])).count())"
      ]
    },
    {
      "cell_type": "code",
      "execution_count": null,
      "metadata": {
        "colab": {
          "base_uri": "https://localhost:8080/"
        },
        "id": "PRl5tQHm4Xx4",
        "outputId": "ab783868-0acc-49f0-f06c-fa73ae43760e"
      },
      "outputs": [
        {
          "data": {
            "text/plain": [
              "435.0"
            ]
          },
          "execution_count": 7,
          "metadata": {},
          "output_type": "execute_result"
        }
      ],
      "source": [
        "bedrooms_median = np.median(\n",
        "    [\n",
        "        row['total_bedrooms'] for row in df.filter(df.total_bedrooms.isNotNull() & ~F.isnan(df.total_bedrooms)).select(\"total_bedrooms\").collect()\n",
        "    ]\n",
        "    )\n",
        "bedrooms_median"
      ]
    },
    {
      "cell_type": "code",
      "execution_count": null,
      "metadata": {
        "id": "TLPX9b2J0PpH"
      },
      "outputs": [],
      "source": [
        "# Заменим Nan на медиану\n",
        "df = df.withColumn('total_bedrooms', F.when(df.total_bedrooms.isNull() | F.isnan(df.total_bedrooms), bedrooms_median).otherwise(df.total_bedrooms))"
      ]
    },
    {
      "cell_type": "code",
      "execution_count": null,
      "metadata": {
        "colab": {
          "base_uri": "https://localhost:8080/"
        },
        "id": "OasFNA0X2WMw",
        "outputId": "e2a72acc-9a54-43de-ddb4-ff39ecf80cca"
      },
      "outputs": [
        {
          "data": {
            "text/plain": [
              "0"
            ]
          },
          "execution_count": 9,
          "metadata": {},
          "output_type": "execute_result"
        }
      ],
      "source": [
        "df.filter(F.col('total_bedrooms').isin([None, np.nan, 'NULL'])).count()"
      ]
    },
    {
      "cell_type": "markdown",
      "metadata": {
        "id": "AzCVF8_raSbJ"
      },
      "source": [
        "## Моделирование\n"
      ]
    },
    {
      "cell_type": "markdown",
      "metadata": {
        "id": "VHaK_mC_L56t"
      },
      "source": [
        "### С категориальным столбцом"
      ]
    },
    {
      "cell_type": "code",
      "execution_count": null,
      "metadata": {
        "colab": {
          "base_uri": "https://localhost:8080/"
        },
        "id": "Lhd3WPqllgsv",
        "outputId": "b1f8f0b3-82d0-4811-944e-b6e82bc8cfae"
      },
      "outputs": [
        {
          "name": "stdout",
          "output_type": "stream",
          "text": [
            "16560 4080\n"
          ]
        }
      ],
      "source": [
        "train_data, test_data = df.randomSplit([.8,.2], seed=RANDOM_SEED)\n",
        "print(train_data.count(), test_data.count())"
      ]
    },
    {
      "cell_type": "code",
      "execution_count": null,
      "metadata": {
        "colab": {
          "base_uri": "https://localhost:8080/"
        },
        "id": "5KN3Mzm4m12y",
        "outputId": "86fd53d6-dd8f-4659-d7be-711e7234c812"
      },
      "outputs": [
        {
          "name": "stdout",
          "output_type": "stream",
          "text": [
            "+---------------+\n",
            "|ocean_proximity|\n",
            "+---------------+\n",
            "|         ISLAND|\n",
            "|     NEAR OCEAN|\n",
            "|       NEAR BAY|\n",
            "|      <1H OCEAN|\n",
            "|         INLAND|\n",
            "+---------------+\n",
            "\n"
          ]
        }
      ],
      "source": [
        "test_data.select('ocean_proximity').distinct().show()"
      ]
    },
    {
      "cell_type": "code",
      "execution_count": null,
      "metadata": {
        "colab": {
          "base_uri": "https://localhost:8080/"
        },
        "id": "eBuUlwaCmI9U",
        "outputId": "5f189c35-8249-42eb-d8f5-05e7ebdd1c04"
      },
      "outputs": [
        {
          "name": "stdout",
          "output_type": "stream",
          "text": [
            "+---------------+\n",
            "|ocean_proximity|\n",
            "+---------------+\n",
            "|         ISLAND|\n",
            "|     NEAR OCEAN|\n",
            "|       NEAR BAY|\n",
            "|      <1H OCEAN|\n",
            "|         INLAND|\n",
            "+---------------+\n",
            "\n"
          ]
        }
      ],
      "source": [
        "train_data.select('ocean_proximity').distinct().show()"
      ]
    },
    {
      "cell_type": "markdown",
      "metadata": {
        "id": "fBuN9dgYm5mX"
      },
      "source": [
        "**Уникальные значения кат. столбцов в выборках совпадают**"
      ]
    },
    {
      "cell_type": "code",
      "execution_count": null,
      "metadata": {
        "id": "I-wkX2R0aYS2"
      },
      "outputs": [],
      "source": [
        "categorical_cols = ['ocean_proximity']\n",
        "numerical_cols = ['longitude',\n",
        "                  'latitude',\n",
        "                  'housing_median_age',\n",
        "                  'total_rooms',\n",
        "                  'total_bedrooms',\n",
        "                  'population',\n",
        "                  'households',\n",
        "                  'median_income']\n",
        "target = 'median_house_value'"
      ]
    },
    {
      "cell_type": "code",
      "execution_count": null,
      "metadata": {
        "id": "PIxKWi5xomwW"
      },
      "outputs": [],
      "source": [
        "indexer = StringIndexer(inputCols=categorical_cols,\n",
        "                        outputCols=[c+'_idx' for c in categorical_cols])\n",
        "\n",
        "encoder = OneHotEncoder(inputCols=[c+'_idx' for c in categorical_cols],\n",
        "                        outputCols=[c+'_ohe' for c in categorical_cols])\n",
        "\n",
        "categorical_assembler = VectorAssembler(inputCols=[c+'_ohe' for c in categorical_cols],\n",
        "                                        outputCol=\"categorical_features\")\n",
        "\n",
        "numerical_assembler = VectorAssembler(inputCols=numerical_cols,\n",
        "                                      outputCol=\"numerical_features\")\n",
        "\n",
        "standardScaler = StandardScaler(inputCol='numerical_features',\n",
        "                                outputCol=\"numerical_features_scaled\",\n",
        "                                withMean=True)\n",
        "\n",
        "final_assembler = VectorAssembler(inputCols=['categorical_features', 'numerical_features_scaled'],\n",
        "                                  outputCol=\"features\")"
      ]
    },
    {
      "cell_type": "code",
      "execution_count": null,
      "metadata": {
        "id": "4TFQJZBio70K"
      },
      "outputs": [],
      "source": [
        "lr = LinearRegression(labelCol=target, featuresCol='features')\n",
        "rf = RandomForestRegressor(labelCol=target, featuresCol=\"features\")"
      ]
    },
    {
      "cell_type": "code",
      "execution_count": null,
      "metadata": {
        "id": "XpJtiBBcoo4h"
      },
      "outputs": [],
      "source": [
        "pipeline_lr = Pipeline(stages=[indexer, encoder, categorical_assembler,\n",
        "                               numerical_assembler, standardScaler,\n",
        "                               final_assembler, lr])\n",
        "\n",
        "pipeline_rf = Pipeline(stages=[indexer, encoder, categorical_assembler,\n",
        "                               numerical_assembler, standardScaler,\n",
        "                               final_assembler, rf])"
      ]
    },
    {
      "cell_type": "code",
      "execution_count": null,
      "metadata": {
        "id": "sNJFHGBR2aoC"
      },
      "outputs": [],
      "source": [
        "paramGrid_lr = ParamGridBuilder() \\\n",
        "    .addGrid(lr.regParam, [0.01, 0.1, 1.0]) \\\n",
        "    .addGrid(lr.elasticNetParam, [0.0, 0.5, 1.0]) \\\n",
        "    .build()\n",
        "\n",
        "paramGrid_rf = ParamGridBuilder() \\\n",
        "    .addGrid(rf.numTrees, [10, 20, 50]) \\\n",
        "    .addGrid(rf.maxDepth, [5, 10, 15]) \\\n",
        "    .build()"
      ]
    },
    {
      "cell_type": "code",
      "execution_count": null,
      "metadata": {
        "id": "pOh31Dx0201X"
      },
      "outputs": [],
      "source": [
        "evaluator = RegressionEvaluator(labelCol=target, predictionCol=\"prediction\", metricName=\"rmse\")\n",
        "\n",
        "crossval_lr = CrossValidator(estimator=pipeline_lr,\n",
        "                             estimatorParamMaps=paramGrid_lr,\n",
        "                             evaluator=evaluator,\n",
        "                             numFolds=3)\n",
        "\n",
        "crossval_rf = CrossValidator(estimator=pipeline_rf,\n",
        "                             estimatorParamMaps=paramGrid_rf,\n",
        "                             evaluator=evaluator,\n",
        "                             numFolds=3)"
      ]
    },
    {
      "cell_type": "code",
      "execution_count": null,
      "metadata": {
        "id": "pNhITWzSpYmm"
      },
      "outputs": [],
      "source": [
        "cv_model_lr = crossval_lr.fit(train_data)\n",
        "cv_model_rf = crossval_rf.fit(train_data)\n",
        "\n",
        "# Прогнозирование на тестовых данных\n",
        "predictions_lr = cv_model_lr.transform(test_data)\n",
        "predictions_rf = cv_model_rf.transform(test_data)\n",
        "\n",
        "# Оценка моделей\n",
        "rmse_lr = evaluator.evaluate(predictions_lr)\n",
        "r2_lr = evaluator.evaluate(predictions_lr, {evaluator.metricName: \"r2\"})\n",
        "mae_lr = evaluator.evaluate(predictions_lr, {evaluator.metricName: \"mae\"})\n",
        "\n",
        "rmse_rf = evaluator.evaluate(predictions_rf)\n",
        "r2_rf = evaluator.evaluate(predictions_rf, {evaluator.metricName: \"r2\"})\n",
        "mae_rf = evaluator.evaluate(predictions_rf, {evaluator.metricName: \"mae\"})"
      ]
    },
    {
      "cell_type": "code",
      "execution_count": null,
      "metadata": {
        "colab": {
          "base_uri": "https://localhost:8080/"
        },
        "id": "ohh7GYe70_NQ",
        "outputId": "ea8f78bc-c373-4245-c6e5-0468f67adc2f"
      },
      "outputs": [
        {
          "name": "stdout",
          "output_type": "stream",
          "text": [
            "LinearRegression - RMSE: 70786.60253817277, R^2: 0.637843817946491, MAE: 50864.70418634916\n",
            "RandomForest - RMSE: 51363.522028492414, R^2: 0.8093207838702373, MAE: 35280.34973507946\n"
          ]
        }
      ],
      "source": [
        "print(f'LinearRegression - RMSE: {rmse_lr}, R^2: {r2_lr}, MAE: {mae_lr}')\n",
        "print(f'RandomForest - RMSE: {rmse_rf}, R^2: {r2_rf}, MAE: {mae_rf}')"
      ]
    },
    {
      "cell_type": "code",
      "execution_count": null,
      "metadata": {
        "colab": {
          "base_uri": "https://localhost:8080/"
        },
        "id": "wkHe-Lo37oYs",
        "outputId": "1d76c539-fb65-44ed-f384-dc9e7d873c74"
      },
      "outputs": [
        {
          "name": "stdout",
          "output_type": "stream",
          "text": [
            "Best hyperparameters for Linear Regression:\n",
            " - regParam: 1.0\n",
            " - elasticNetParam: 0.0\n",
            "Best hyperparameters for Random Forest:\n",
            " - numTrees: 50\n",
            " - maxDepth: 15\n"
          ]
        }
      ],
      "source": [
        "best_lr_model = cv_model_lr.bestModel.stages[-1]\n",
        "print(\"Best hyperparameters for Linear Regression:\")\n",
        "print(f\" - regParam: {best_lr_model._java_obj.getRegParam()}\")\n",
        "print(f\" - elasticNetParam: {best_lr_model._java_obj.getElasticNetParam()}\")\n",
        "\n",
        "best_rf_model = cv_model_rf.bestModel.stages[-1]\n",
        "print(\"Best hyperparameters for Random Forest:\")\n",
        "print(f\" - numTrees: {best_rf_model.getNumTrees}\")\n",
        "print(f\" - maxDepth: {best_rf_model.getMaxDepth()}\")"
      ]
    },
    {
      "cell_type": "markdown",
      "metadata": {
        "id": "yFLTX-PMMAb2"
      },
      "source": [
        "### Без категориального столбца"
      ]
    },
    {
      "cell_type": "code",
      "execution_count": null,
      "metadata": {
        "id": "04IvjHE3HqvT"
      },
      "outputs": [],
      "source": [
        "learn_df = df.drop('ocean_proximity')"
      ]
    },
    {
      "cell_type": "code",
      "execution_count": null,
      "metadata": {
        "colab": {
          "base_uri": "https://localhost:8080/"
        },
        "id": "92PNGfooHrR2",
        "outputId": "d7675444-84d7-4107-edcb-3cf5f4d2da09"
      },
      "outputs": [
        {
          "name": "stdout",
          "output_type": "stream",
          "text": [
            "16560 4080\n"
          ]
        }
      ],
      "source": [
        "train_data, test_data = learn_df.randomSplit([.8,.2], seed=RANDOM_SEED)\n",
        "print(train_data.count(), test_data.count())"
      ]
    },
    {
      "cell_type": "markdown",
      "metadata": {
        "id": "evNsLGEUHrR-"
      },
      "source": [
        "**Уникальные значения кат. столбцов в выборках совпадают**"
      ]
    },
    {
      "cell_type": "code",
      "execution_count": null,
      "metadata": {
        "id": "Imn7uw-NHrR-"
      },
      "outputs": [],
      "source": [
        "numerical_cols = ['longitude',\n",
        "                  'latitude',\n",
        "                  'housing_median_age',\n",
        "                  'total_rooms',\n",
        "                  'total_bedrooms',\n",
        "                  'population',\n",
        "                  'households',\n",
        "                  'median_income']\n",
        "target = 'median_house_value'"
      ]
    },
    {
      "cell_type": "code",
      "execution_count": null,
      "metadata": {
        "id": "ZobZ0JrwHrR_"
      },
      "outputs": [],
      "source": [
        "numerical_assembler = VectorAssembler(inputCols=numerical_cols,\n",
        "                                      outputCol=\"numerical_features\")\n",
        "\n",
        "standardScaler = StandardScaler(inputCol='numerical_features',\n",
        "                                outputCol=\"numerical_features_scaled\",\n",
        "                                withMean=True)\n",
        "\n",
        "final_assembler = VectorAssembler(inputCols=['numerical_features_scaled'],\n",
        "                                  outputCol=\"features\")"
      ]
    },
    {
      "cell_type": "code",
      "execution_count": null,
      "metadata": {
        "id": "LFL6jsJiHrR_"
      },
      "outputs": [],
      "source": [
        "lr = LinearRegression(labelCol=target, featuresCol='features')\n",
        "rf = RandomForestRegressor(labelCol=target, featuresCol=\"features\")"
      ]
    },
    {
      "cell_type": "code",
      "execution_count": null,
      "metadata": {
        "id": "n7nq6dIxHrSA"
      },
      "outputs": [],
      "source": [
        "pipeline_lr = Pipeline(stages=[numerical_assembler, standardScaler, final_assembler, lr])\n",
        "pipeline_rf = Pipeline(stages=[numerical_assembler, standardScaler, final_assembler, rf])"
      ]
    },
    {
      "cell_type": "code",
      "execution_count": null,
      "metadata": {
        "id": "7U9PMmY5HrSA"
      },
      "outputs": [],
      "source": [
        "paramGrid_lr = ParamGridBuilder() \\\n",
        "    .addGrid(lr.regParam, [0.01, 0.1, 1.0]) \\\n",
        "    .addGrid(lr.elasticNetParam, [0.0, 0.5, 1.0]) \\\n",
        "    .build()\n",
        "\n",
        "paramGrid_rf = ParamGridBuilder() \\\n",
        "    .addGrid(rf.numTrees, [10, 20, 50]) \\\n",
        "    .addGrid(rf.maxDepth, [5, 10, 15]) \\\n",
        "    .build()"
      ]
    },
    {
      "cell_type": "code",
      "execution_count": null,
      "metadata": {
        "id": "OkFR7nHWHrSB"
      },
      "outputs": [],
      "source": [
        "evaluator = RegressionEvaluator(labelCol=target, predictionCol=\"prediction\", metricName=\"rmse\")\n",
        "\n",
        "crossval_lr = CrossValidator(estimator=pipeline_lr,\n",
        "                             estimatorParamMaps=paramGrid_lr,\n",
        "                             evaluator=evaluator,\n",
        "                             numFolds=3)\n",
        "\n",
        "crossval_rf = CrossValidator(estimator=pipeline_rf,\n",
        "                             estimatorParamMaps=paramGrid_rf,\n",
        "                             evaluator=evaluator,\n",
        "                             numFolds=3)"
      ]
    },
    {
      "cell_type": "code",
      "execution_count": null,
      "metadata": {
        "id": "iS3wT_HoHrSC"
      },
      "outputs": [],
      "source": [
        "cv_model_lr = crossval_lr.fit(train_data)\n",
        "cv_model_rf = crossval_rf.fit(train_data)\n",
        "\n",
        "# Прогнозирование на тестовых данных\n",
        "predictions_lr = cv_model_lr.transform(test_data)\n",
        "predictions_rf = cv_model_rf.transform(test_data)\n",
        "\n",
        "# Оценка моделей\n",
        "rmse_lr = evaluator.evaluate(predictions_lr)\n",
        "r2_lr = evaluator.evaluate(predictions_lr, {evaluator.metricName: \"r2\"})\n",
        "mae_lr = evaluator.evaluate(predictions_lr, {evaluator.metricName: \"mae\"})\n",
        "\n",
        "rmse_rf = evaluator.evaluate(predictions_rf)\n",
        "r2_rf = evaluator.evaluate(predictions_rf, {evaluator.metricName: \"r2\"})\n",
        "mae_rf = evaluator.evaluate(predictions_rf, {evaluator.metricName: \"mae\"})"
      ]
    },
    {
      "cell_type": "code",
      "execution_count": null,
      "metadata": {
        "colab": {
          "base_uri": "https://localhost:8080/"
        },
        "id": "32DDTThpHrSC",
        "outputId": "7c6d66cf-0f95-4620-942a-673a4f69e0bf"
      },
      "outputs": [
        {
          "name": "stdout",
          "output_type": "stream",
          "text": [
            "LinearRegression - RMSE: 71797.610620775, R^2: 0.6274249667117286, MAE: 51804.79138750769\n",
            "RandomForest - RMSE: 53179.38648617812, R^2: 0.7956002259092048, MAE: 36882.26410052106\n"
          ]
        }
      ],
      "source": [
        "print(f'LinearRegression - RMSE: {rmse_lr}, R^2: {r2_lr}, MAE: {mae_lr}')\n",
        "print(f'RandomForest - RMSE: {rmse_rf}, R^2: {r2_rf}, MAE: {mae_rf}')"
      ]
    },
    {
      "cell_type": "code",
      "execution_count": null,
      "metadata": {
        "colab": {
          "base_uri": "https://localhost:8080/"
        },
        "id": "RJ9HFGQbHrSD",
        "outputId": "49f450f7-bcf3-40be-cb6d-cc30bb078a0f"
      },
      "outputs": [
        {
          "name": "stdout",
          "output_type": "stream",
          "text": [
            "Best hyperparameters for Linear Regression:\n",
            " - regParam: 1.0\n",
            " - elasticNetParam: 1.0\n",
            "Best hyperparameters for Random Forest:\n",
            " - numTrees: 50\n",
            " - maxDepth: 15\n"
          ]
        }
      ],
      "source": [
        "best_lr_model = cv_model_lr.bestModel.stages[-1]\n",
        "print(\"Best hyperparameters for Linear Regression:\")\n",
        "print(f\" - regParam: {best_lr_model._java_obj.getRegParam()}\")\n",
        "print(f\" - elasticNetParam: {best_lr_model._java_obj.getElasticNetParam()}\")\n",
        "\n",
        "best_rf_model = cv_model_rf.bestModel.stages[-1]\n",
        "print(\"Best hyperparameters for Random Forest:\")\n",
        "print(f\" - numTrees: {best_rf_model.getNumTrees}\")\n",
        "print(f\" - maxDepth: {best_rf_model.getMaxDepth()}\")"
      ]
    },
    {
      "cell_type": "markdown",
      "metadata": {
        "id": "fv0L3Q2mQzbZ"
      },
      "source": [
        "## Выводы\n",
        "\n",
        "**Удаление столбца с близостью жилья к океану негативно сказалось на метриках модели, что подтверждает гипотезу о том, что существует явная зависимость цены от этого показателя.**\n",
        "\n",
        "**В процессе предобработки отсутствующие значения в столбце total_bedrooms  были заменены на медиану**\n",
        "\n",
        "**Был составлен пайплайн для работы с признаками, в него вошли OneHotEncoder для кат. признака и StandartScaler для числовых**\n",
        "\n",
        "**В результате кросс-валидации была выбрана модель Random forest с параметрами:**\n",
        "- numTrees: 50\n",
        "- maxDepth: 15\n",
        "\n",
        "**Итоговые метрики модели:**\n",
        "- **RMSE**: 51363.522028492414\n",
        "- **R^2**: 0.8093207838702373\n",
        "- **MAE**: 35280.34973507946"
      ]
    }
  ],
  "metadata": {
    "colab": {
      "provenance": [],
      "toc_visible": true
    },
    "kernelspec": {
      "display_name": "Python 3 (ipykernel)",
      "language": "python",
      "name": "python3"
    },
    "language_info": {
      "codemirror_mode": {
        "name": "ipython",
        "version": 3
      },
      "file_extension": ".py",
      "mimetype": "text/x-python",
      "name": "python",
      "nbconvert_exporter": "python",
      "pygments_lexer": "ipython3",
      "version": "3.9.5"
    },
    "toc": {
      "base_numbering": 1,
      "nav_menu": {},
      "number_sections": true,
      "sideBar": true,
      "skip_h1_title": true,
      "title_cell": "Table of Contents",
      "title_sidebar": "Contents",
      "toc_cell": false,
      "toc_position": {},
      "toc_section_display": true,
      "toc_window_display": false
    }
  },
  "nbformat": 4,
  "nbformat_minor": 0
}